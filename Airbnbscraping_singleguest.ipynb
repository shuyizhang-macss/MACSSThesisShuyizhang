{
 "cells": [
  {
   "cell_type": "markdown",
   "metadata": {},
   "source": [
    "# Scrap name, number of reviews, number of years for a single Airbnb guest in review of a single Airbnb listing"
   ]
  },
  {
   "cell_type": "code",
   "execution_count": null,
   "metadata": {},
   "outputs": [],
   "source": [
    "from selenium import webdriver\n",
    "from selenium.webdriver.chrome.options import Options\n",
    "from selenium.webdriver.common.by import By\n",
    "from selenium.webdriver.support.ui import WebDriverWait\n",
    "from selenium.webdriver.support import expected_conditions as EC\n",
    "from selenium.common.exceptions import TimeoutException"
   ]
  },
  {
   "cell_type": "code",
   "execution_count": 2,
   "metadata": {},
   "outputs": [
    {
     "name": "stderr",
     "output_type": "stream",
     "text": [
      "Error sending stats to Plausible: error sending request for url (https://plausible.io/api/event): operation timed out\n"
     ]
    }
   ],
   "source": [
    "# Set up Chrome options\n",
    "chrome_options = Options()\n",
    "# chrome_options.add_argument(\"--headless\")  # Run Chrome in headless mode (optional)\n",
    "\n",
    "# Set up the Chrome WebDriver\n",
    "driver = webdriver.Chrome(options=chrome_options)"
   ]
  },
  {
   "cell_type": "code",
   "execution_count": 61,
   "metadata": {},
   "outputs": [],
   "source": [
    "def parent(element, level=1):\n",
    "    for i in range(level):\n",
    "        element = element.find_element(By.XPATH, \"..\")\n",
    "    return element"
   ]
  },
  {
   "cell_type": "code",
   "execution_count": 62,
   "metadata": {},
   "outputs": [],
   "source": [
    "def craw_user_page(url):\n",
    "    driver.get(url)\n",
    "    try:\n",
    "        WebDriverWait(driver, 5).until(EC.presence_of_element_located((By.XPATH, \"//span[(text()='Guest')]\")))\n",
    "    except TimeoutException:\n",
    "        print(\"Timed out waiting for page to load\")\n",
    "    guest_ele = driver.find_element(By.XPATH, \"//span[(text()='Guest')]\")\n",
    "    name_ele = parent(guest_ele, 2).find_element(By.CSS_SELECTOR, \"h2\")\n",
    "    right_pane_ele = parent(guest_ele, 4).find_elements(By.CSS_SELECTOR, \"div>div>div>span\")\n",
    "    guest_name = name_ele.text\n",
    "    num_review = int(right_pane_ele[0].text)\n",
    "    num_years = int(right_pane_ele[2].text)\n",
    "    return guest_name, num_review, num_years"
   ]
  },
  {
   "cell_type": "code",
   "execution_count": 63,
   "metadata": {},
   "outputs": [
    {
     "name": "stdout",
     "output_type": "stream",
     "text": [
      "('Lindsey', 11, 11)\n"
     ]
    }
   ],
   "source": [
    "print(craw_user_page('https://www.airbnb.com/users/show/4995996'))"
   ]
  }
 ],
 "metadata": {
  "kernelspec": {
   "display_name": "Python 3",
   "language": "python",
   "name": "python3"
  },
  "language_info": {
   "codemirror_mode": {
    "name": "ipython",
    "version": 3
   },
   "file_extension": ".py",
   "mimetype": "text/x-python",
   "name": "python",
   "nbconvert_exporter": "python",
   "pygments_lexer": "ipython3",
   "version": "3.12.2"
  }
 },
 "nbformat": 4,
 "nbformat_minor": 2
}
